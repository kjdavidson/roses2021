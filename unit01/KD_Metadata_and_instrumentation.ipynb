{
 "cells": [
  {
   "cell_type": "markdown",
   "metadata": {},
   "source": [
    "![](https://raw.githubusercontent.com/fdannemanndugick/roses2021/main/header.png)"
   ]
  },
  {
   "cell_type": "markdown",
   "metadata": {},
   "source": [
    "# Obtaining metadata and experimenting with response removal\n",
    "The goal of this exercise is to explore different options in ObsPy's remove_response method and how they affect the output signal after deconvolution. Explore lots of different options, change the settings to request data from a station and earthquake of interest to you, and remember you can always re-start the notebook!  \n",
    "\n",
    "You may want to start by taking a look at the documentation for remove_response: https://docs.obspy.org/packages/autogen/obspy.core.trace.Trace.remove_response.html"
   ]
  },
  {
   "cell_type": "markdown",
   "metadata": {},
   "source": [
    "We'll start with the usual imports:"
   ]
  },
  {
   "cell_type": "code",
   "execution_count": null,
   "metadata": {},
   "outputs": [],
   "source": [
    "import obspy\n",
    "from obspy.clients.fdsn import Client\n",
    "\n",
    "# Edit client to use your data center of interest\n",
    "client = Client(\"IRIS\")\n"
   ]
  },
  {
   "cell_type": "markdown",
   "metadata": {},
   "source": [
    "List of available clients: https://docs.obspy.org/packages/obspy.clients.fdsn.html"
   ]
  },
  {
   "cell_type": "code",
   "execution_count": null,
   "metadata": {
    "scrolled": true
   },
   "outputs": [],
   "source": [
    "# Edit this to request metadata from your favorite station(s)\n",
    "t1 = obspy.UTCDateTime(\"2020-07-01\")\n",
    "inv = client.get_stations(network=\"IW\", station=\"PLID\", channel=\"BHZ\", level=\"response\", starttime=t1)\n",
    "inv += client.get_stations(network=\"GS\", station=\"PR01\", channel=\"HHZ\", level=\"response\", starttime=t1)\n",
    "# may get a warning about StationXML1.1 -- OK to ignore it"
   ]
  },
  {
   "cell_type": "code",
   "execution_count": null,
   "metadata": {},
   "outputs": [],
   "source": [
    "inv.plot_response(min_freq=1e-4)\n",
    "inv.write(\"inventory.xml\", format=\"stationxml\")\n",
    "print(inv)"
   ]
  },
  {
   "cell_type": "markdown",
   "metadata": {},
   "source": [
    "Let's revisit the example Sydney showed in Unit 1 using the 2019 M7.1 Ridgecrest earthquake and GSN station IU.TUC in Tucson, Arizona."
   ]
  },
  {
   "cell_type": "code",
   "execution_count": null,
   "metadata": {},
   "outputs": [],
   "source": [
    "time = obspy.UTCDateTime(\"2019-07-06T03:19:53.04\")\n",
    "starttime = time - 60 \n",
    "endtime = time + 60*15\n",
    "\n",
    "net = \"IU\"\n",
    "sta = \"TUC\"\n",
    "loc = \"00\"\n",
    "chan = \"HH1\"\n",
    "\n",
    "# Requesting waveforms with attach_response=True tells ObsPy to request an inventory object for the channels requested\n",
    "# st. \n",
    "st = client.get_waveforms(net, sta, loc, chan, starttime, endtime, attach_response = True)\n",
    "print(st)\n",
    "\n",
    "st_rem = st.copy() # make a copy of our original stream so we can try different options later\n",
    "\n",
    "st_rem.remove_response(output = 'VEL', plot = True, water_level = 60) # Use ObsPy defaults to remove response\n",
    "# What happens if you choose a different water_level?  What if you set water_level = 0?\n",
    "\n",
    "st.plot()\n",
    "st_rem.plot(color='red');\n",
    "\n",
    "# Remember, if you remove the response from the same trace multiple times, your output will be strange (and non-physical).  \n",
    "# This is why we make a new copy of st for each example below. "
   ]
  },
  {
   "cell_type": "markdown",
   "metadata": {},
   "source": [
    "By default, ObsPy removes the mean of the signal and applies a 5% cosine taper to the ends of the signal before removing the response: https://docs.obspy.org/packages/autogen/obspy.core.trace.Trace.remove_response.html\n",
    "\n",
    "Let's explore what happens if we don't remove the mean or taper the signal. We'll also add a larger offset to the data to mimic a seismometer with masses that have drifted off-center (a common occurrence)."
   ]
  },
  {
   "cell_type": "code",
   "execution_count": null,
   "metadata": {},
   "outputs": [],
   "source": [
    "st_rem = st.copy() # repeating this since the last cell will have removed the response from st_rem already\n",
    "\n",
    "# ObsPy's remove_response command automatically removes the mean and applies a 5% taper\n",
    "# This supresses low and high-frequency artifacts \n",
    "# What happens if you turn these off? \n",
    "# Let's add a big offset to the data to exaggerate the effects\n",
    "st_rem[0].data = st_rem[0].data + 3e6\n",
    "st_rem.remove_response(output = 'VEL', plot = True, taper=0, zero_mean=False) \n",
    "\n",
    "st.plot()\n",
    "st_rem.plot(color='green');\n"
   ]
  },
  {
   "cell_type": "markdown",
   "metadata": {},
   "source": [
    "You can also use the pre_filt option to apply a filter to your data before removing the response. This helps stabilize the deconvolution and avoids blowing up long-period noise."
   ]
  },
  {
   "cell_type": "code",
   "execution_count": null,
   "metadata": {},
   "outputs": [],
   "source": [
    "st_rem = st.copy() # repeating this since the last cell will have removed the response from st_rem already\n",
    "\n",
    "# Use pre_filt command to filter the signal in your frequency band of interest\n",
    "# Here's an example with pre_filt parameters useful for surface-wave studies\n",
    "# Experiment with changing the 4 frequencies to see how this modifies the red pre_filt curve in the first row of plots\n",
    "# Try modifying it to a frequency band that emphasizes body waves (~1 s) and filters out surface waves (~10s-100s of sec)\n",
    "# Note: pre_filt is specified in Hz\n",
    "# Remember: best not to work too close to Nyquist (highest freq should be no higher than about 0.75*fny)\n",
    "print(st_rem[0].stats.sampling_rate)\n",
    "st_rem.remove_response(output = 'VEL', plot = True, pre_filt=[0.0036, 0.006, 0.1, 0.5]) \n",
    "\n",
    "st.plot()\n",
    "st_rem.plot(color='blue');"
   ]
  }
 ],
 "metadata": {
  "kernelspec": {
   "display_name": "roses_2021",
   "language": "python",
   "name": "roses_2021"
  },
  "language_info": {
   "codemirror_mode": {
    "name": "ipython",
    "version": 3
   },
   "file_extension": ".py",
   "mimetype": "text/x-python",
   "name": "python",
   "nbconvert_exporter": "python",
   "pygments_lexer": "ipython3",
   "version": "3.9.4"
  }
 },
 "nbformat": 4,
 "nbformat_minor": 4
}
