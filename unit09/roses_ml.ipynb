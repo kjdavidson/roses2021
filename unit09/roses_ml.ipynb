{
 "cells": [
  {
   "cell_type": "markdown",
   "id": "8b873147",
   "metadata": {},
   "source": [
    "![roses header](https://github.com/fdannemanndugick/roses2021/raw/main/header.png)"
   ]
  },
  {
   "cell_type": "markdown",
   "id": "b39ba314",
   "metadata": {},
   "source": [
    "# ROSES Unit 9 - Machine Learning\n",
    "\n",
    "[Omkar Ranadive](https://omkar-ranadive.github.io/)\n",
    "\n",
    "Applied Scientist,\n",
    "Alchera Labs\n",
    "\n",
    "<hr>"
   ]
  },
  {
   "cell_type": "markdown",
   "id": "456f10fd",
   "metadata": {},
   "source": [
    "## Activity 1 - Introduction to PyTorch "
   ]
  },
  {
   "cell_type": "markdown",
   "id": "5a43e1d2",
   "metadata": {},
   "source": [
    "PyTorch is one of the most widely used frameworks for building Machine Learning models. In this first activity, we will get familiarized with the basics of PyTorch. "
   ]
  },
  {
   "cell_type": "code",
   "execution_count": 1,
   "id": "52ec6b34",
   "metadata": {},
   "outputs": [],
   "source": [
    "import torch \n",
    "import torch.nn.functional as F\n",
    "import torch.nn as nn \n",
    "import numpy as np \n",
    "import matplotlib.pyplot as plt \n",
    "import pandas as pd\n",
    "from urllib.request import urlopen \n",
    "import pickle "
   ]
  },
  {
   "cell_type": "markdown",
   "id": "08fe39ab",
   "metadata": {},
   "source": [
    "Pytorch is very similar to Numpy so it's quite easy to get accustomed to PyTorch. Let's look at how to perform a few basic operations in PyTorch and how they are similar to Numpy. "
   ]
  },
  {
   "cell_type": "code",
   "execution_count": 2,
   "id": "fd353c77",
   "metadata": {},
   "outputs": [
    {
     "name": "stdout",
     "output_type": "stream",
     "text": [
      "[[1. 1. 1.]\n",
      " [1. 1. 1.]\n",
      " [1. 1. 1.]]\n",
      "tensor([[1., 1., 1.],\n",
      "        [1., 1., 1.],\n",
      "        [1., 1., 1.]])\n",
      "(3, 3)\n",
      "torch.Size([3, 3])\n"
     ]
    }
   ],
   "source": [
    "# Initializing a 3x3 array of ones \n",
    "a_np = np.ones((3, 3)) \n",
    "a_pt = torch.ones((3, 3))\n",
    "\n",
    "print(a_np)\n",
    "print(a_pt)\n",
    "\n",
    "# Looking up dimensions of the array \n",
    "print(a_np.shape) \n",
    "print(a_pt.shape)"
   ]
  },
  {
   "cell_type": "markdown",
   "id": "0fb8196c",
   "metadata": {},
   "source": [
    "We can see that the output produced by Torch functions is of the data type - \"Torch.tensor\". Torch tensors are just multi-dimensional matrices. Note that, each tensor array can contain elements of a single data type only (For example - int32, float32 etc). The main difference between PyTorch Tensors and Numpy Arrays is that pytorch tensors can be moved to the GPU for training - this significantly speeds up the computation \n",
    "\n",
    "**Note:** For the purpose of this assignment, we will only be using PyTorch CPU to ensure compatibility with everyone's system but in practice you should always use the GPU version if you have GPU access   "
   ]
  },
  {
   "cell_type": "code",
   "execution_count": 3,
   "id": "6ac2c058",
   "metadata": {},
   "outputs": [
    {
     "name": "stdout",
     "output_type": "stream",
     "text": [
      "tensor([[1, 2, 3],\n",
      "        [4, 5, 6]])\n",
      "\n",
      "Original Numpy array: \n",
      "[[0.4334664  0.97784427 0.47079947 0.08644607 0.95773276]\n",
      " [0.95015806 0.21629383 0.02074387 0.87630675 0.09081809]\n",
      " [0.61243198 0.54325668 0.32175977 0.43670948 0.71358077]]\n",
      "\n",
      "Converted to Torch Tensor\n",
      "tensor([[0.4335, 0.9778, 0.4708, 0.0864, 0.9577],\n",
      "        [0.9502, 0.2163, 0.0207, 0.8763, 0.0908],\n",
      "        [0.6124, 0.5433, 0.3218, 0.4367, 0.7136]], dtype=torch.float64)\n",
      "\n",
      "Back to Numpy array\n",
      "[[0.4334664  0.97784427 0.47079947 0.08644607 0.95773276]\n",
      " [0.95015806 0.21629383 0.02074387 0.87630675 0.09081809]\n",
      " [0.61243198 0.54325668 0.32175977 0.43670948 0.71358077]]\n",
      "\n",
      "Concat arrays\n",
      "torch.Size([3, 8])\n",
      "tensor([[0.4335, 0.9778, 0.4708, 0.0864, 0.9577, 1.0000, 1.0000, 1.0000],\n",
      "        [0.9502, 0.2163, 0.0207, 0.8763, 0.0908, 1.0000, 1.0000, 1.0000],\n",
      "        [0.6124, 0.5433, 0.3218, 0.4367, 0.7136, 1.0000, 1.0000, 1.0000]],\n",
      "       dtype=torch.float64)\n"
     ]
    }
   ],
   "source": [
    "# Converting data to tensors \n",
    "\n",
    "# Lists can be easily converted to PyTorch tensors \n",
    "d = [[1, 2, 3], [4, 5, 6]] \n",
    "d_pt = torch.tensor(d)\n",
    "print(d_pt)\n",
    "\n",
    "# Numpy arrays can also be easily converted to Torch Tensors \n",
    "temp_arr = np.random.rand(3, 5)\n",
    "print(\"\\nOriginal Numpy array: \")\n",
    "print(temp_arr)\n",
    "# Use from_numpy to convert numpy to temp_arr \n",
    "temp_arr_pt = torch.from_numpy(temp_arr)\n",
    "print(\"\\nConverted to Torch Tensor\")\n",
    "print(temp_arr_pt)\n",
    "\n",
    "# It's just as simple to convert a tensor back to numpy array \n",
    "temp_arr = temp_arr_pt.numpy()\n",
    "print(\"\\nBack to Numpy array\")\n",
    "print(temp_arr)\n",
    "\n",
    "# To concat multiple arrays together, we can use torch.concat \n",
    "print(\"\\nConcat arrays\")\n",
    "concat_arr = torch.cat((temp_arr_pt, a_pt), dim=1)\n",
    "print(concat_arr.shape)\n",
    "print(concat_arr)"
   ]
  },
  {
   "cell_type": "markdown",
   "id": "03d295bc",
   "metadata": {},
   "source": [
    "<hr>\n",
    "\n",
    "##  Activity 2 - Predicting earthquake arrival time based on station location and earthquake location "
   ]
  },
  {
   "cell_type": "markdown",
   "id": "64a988d5",
   "metadata": {},
   "source": [
    "In this activity, we will be developing a neural network which learns a non-linear function to predict earhtquake arrival times. We will be using the example from Unit 7 - Earthquake Location (Section 1). <br> \n",
    "\n"
   ]
  },
  {
   "cell_type": "markdown",
   "id": "53e5b07f",
   "metadata": {},
   "source": [
    "#### Credits to Jonathan Smith for the example and for the synthetic data generation code"
   ]
  },
  {
   "cell_type": "markdown",
   "id": "8df102f8",
   "metadata": {},
   "source": [
    "To recap, the predicted arrival time was defined as follows: \n",
    "\n",
    "$t_p^i = T^i(x_i,y_i,z_i,x_s,y_s,z_s, V_H)$    \n",
    "\n",
    "where $\\vec{X}_i=[x_i,y_i,z_i]$ is the station location for station $i$, $\\vec{X}_s=[x_s,y_s,z_s]$ the earthquake location, $T$ the travel-time function between the earthquake location and station location dependent on the subsurface velocity structure $V_H$,"
   ]
  },
  {
   "cell_type": "markdown",
   "id": "e6b55cae",
   "metadata": {},
   "source": [
    "Then the misfit function (loss function) was defined as follows: \n",
    "\n",
    "$ r = \\sum_{i=1}^n |t_o^i - t_p^i|$\n",
    "\n",
    "where $r$ in this case represents the L1-norm, $n$ represents the total number of station locations, $t_o^i$ the observed arrival time at station location $i$, and $t_p^i$ the predicted arrival time at station location $i$ given in the equation above. "
   ]
  },
  {
   "cell_type": "markdown",
   "id": "c21cd117",
   "metadata": {},
   "source": [
    "Then, the observed time values were calculated using the following homogeneous velocity model:  \n",
    "\n",
    "$T_{V_H}^i = \\frac{\\sqrt{\\left( \\vec{X_i}  - \\vec{X_s}  \\right)^2}}{V_H}$\n",
    "\n",
    "where $T_V^i$ represents the travel-time for station $i$ dependent on velocity structure $V_H$. Even for this simple case notice the non-linear nature in $T_V^i$ dependent on the source location."
   ]
  },
  {
   "cell_type": "markdown",
   "id": "63f513b3",
   "metadata": {},
   "source": [
    "Now, in this activity, we want the neural network to *approximately* learn this non-linear function (homogeneous velocity model). \n",
    "\n",
    "Let's see how to go about doing that! "
   ]
  },
  {
   "cell_type": "markdown",
   "id": "27440408",
   "metadata": {},
   "source": [
    "From the lecture slides, remember the steps in a Machine Learning workflow: \n",
    "\n",
    "\n",
    "1. Gather data X, labels Y, define a model M(W) and loss function L(X, Y; W) \n",
    "2. Initialize model parameters W \n",
    "3. Calculate the loss L w.r.t those parameters \n",
    "4. Update the parameters such that loss L is reduced \n",
    "5. Keep doing this until convergence  "
   ]
  },
  {
   "cell_type": "markdown",
   "id": "328d0005",
   "metadata": {},
   "source": [
    "### Step 1: Gather data X, labels Y, define a model M(W) and loss function L(X, Y; W)\n",
    "\n"
   ]
  },
  {
   "cell_type": "markdown",
   "id": "8a16788f",
   "metadata": {},
   "source": [
    "\n",
    "* So, here the data X is the synthetic data which we generate in the next cell (Xc and Xs) \n",
    "* The labels Y will be the observed arrival times (to) which are calculated using the homogeneous velocity model "
   ]
  },
  {
   "cell_type": "code",
   "execution_count": 4,
   "id": "86c971b3",
   "metadata": {},
   "outputs": [],
   "source": [
    "# ---- Defining the domain of interest. ----/\n",
    "Xmin,Xmax,Zmin,Zmax = 0,100,-2,10\n",
    "# X representing the horizontal distance in km\n",
    "# Z representing the depth positive downwards in km\n",
    "\n",
    "# ---- Seismic Station Locations ----\n",
    "n                       = 2000   # Number of seismic stations\n",
    "\n",
    "\n",
    "# The data X \n",
    "Xc      = np.zeros((n,2));\n",
    "Xc[:,0] = np.random.uniform(low=Xmin, high=Xmax, size=(n))\n",
    "Xc[:,1] = 0  # Setting stations at surface \n",
    "\n",
    "# --- Defining a random source location\n",
    "Xs =  [np.random.uniform(low=Xmin, high=Xmax),\n",
    "       np.random.uniform(low=0, high=Zmax)]"
   ]
  },
  {
   "cell_type": "code",
   "execution_count": 5,
   "id": "b64e9d5a",
   "metadata": {},
   "outputs": [
    {
     "name": "stdout",
     "output_type": "stream",
     "text": [
      "(2000,)\n"
     ]
    }
   ],
   "source": [
    "# --- Determining the observed travel-times for a single-phase ---\n",
    "Vh = 3.1 #km/s\n",
    "\n",
    "# The labels Y \n",
    "# Determining the observational Travel-Times assuming origin time t0=0.0\n",
    "to = np.sqrt(np.sum(np.square(Xc - Xs),axis=1))/Vh\n",
    "\n",
    "print(to.shape)"
   ]
  },
  {
   "cell_type": "markdown",
   "id": "c1d7fa69",
   "metadata": {},
   "source": [
    "Now, using the functions we learned in activity 1, we convert the data to torch tensors \n"
   ]
  },
  {
   "cell_type": "code",
   "execution_count": 6,
   "id": "cfb6bf45",
   "metadata": {},
   "outputs": [
    {
     "name": "stdout",
     "output_type": "stream",
     "text": [
      "torch.Size([2000, 2]) torch.Size([2000, 2]) torch.Size([2000, 1])\n",
      "torch.Size([2000, 4])\n"
     ]
    }
   ],
   "source": [
    "# Convert to tensors \n",
    "Xc_t = torch.from_numpy(Xc)\n",
    "Xs_t = torch.tensor(n*[Xs])\n",
    "\n",
    "\"\"\"\n",
    "Note, how I am converting y and the data variable to .float().\n",
    "A PyTorch model expects the input data to be in float32 by default. A numpy array is float64 (double) by default. \n",
    "Hence, always remember to apply the proper conversions beforehand! \n",
    "\"\"\"  \n",
    "\n",
    "Y = torch.from_numpy(to).reshape(-1, 1).float()\n",
    "\n",
    "print(Xc_t.shape, Xs_t.shape, Y.shape)\n",
    "\n",
    "# Concatenate them together \n",
    "X = torch.cat((Xc_t, Xs_t), dim=1).float()\n",
    "print(X.shape)"
   ]
  },
  {
   "cell_type": "markdown",
   "id": "92ee53cf",
   "metadata": {},
   "source": [
    "Next, we define our model. \n",
    "\n",
    "* Models in PyTorch can be defined as classes in Python \n",
    "* We need to inherit the torch.nn.Module (include it in the class definition; eg - class FCN(**torch.nn.Module**) \n",
    "* Next, the model structure is defined in the def __init__ function. A simple fully connected linear layer can be defined using the nn.Linear function. The first value is the incoming features (4) and the second value is the outgoing features (8). \n",
    "* Every PyTorch class needs to have a forward function - this is equivalent to the forward pass of the model. The different components which we defined in the model structure (init function) are used in this forward function. Also, note that we are passing the output of each component through non-linear functions wherever required (Ex - F.Relu(self.fc1(x)))\n"
   ]
  },
  {
   "cell_type": "markdown",
   "id": "29e72350",
   "metadata": {},
   "source": [
    "So, a model defined below would look as follows: "
   ]
  },
  {
   "cell_type": "markdown",
   "id": "6ffacb06",
   "metadata": {},
   "source": [
    "<img src=\"https://i.imgur.com/IVl1Toz.png\" width=\"450\" height=\"650\" />"
   ]
  },
  {
   "cell_type": "markdown",
   "id": "e2be9a0e",
   "metadata": {},
   "source": [
    "Here the four input features are the 2d co-ordinates for a station and the 2d co-ordinates of the earthquake  "
   ]
  },
  {
   "cell_type": "markdown",
   "id": "a929055f",
   "metadata": {},
   "source": [
    "The nn.Linear function in more details: https://pytorch.org/docs/stable/generated/torch.nn.Linear.html\n",
    "\n",
    "Just like nn.linear, there are a host of other functions inside the torch.nn module: https://pytorch.org/docs/stable/nn.html\n",
    "\n",
    "So, while the math may seem intimidating, it's pretty easy to build these models in practice using these functions! "
   ]
  },
  {
   "cell_type": "code",
   "execution_count": 7,
   "id": "f67f475e",
   "metadata": {},
   "outputs": [],
   "source": [
    "class FCN(torch.nn.Module): \n",
    "    def __init__(self):\n",
    "        super(FCN, self).__init__()\n",
    "        \n",
    "        self.fc1 = nn.Linear(4, 8)\n",
    "        self.fc2 = nn.Linear(8, 1)\n",
    "    \n",
    "    def forward(self, x): \n",
    "        x = F.relu(self.fc1(x))\n",
    "        x = self.fc2(x)\n",
    "        \n",
    "        return x \n"
   ]
  },
  {
   "cell_type": "markdown",
   "id": "4fed345b",
   "metadata": {},
   "source": [
    "Next, we can define our loss (misfit) function "
   ]
  },
  {
   "cell_type": "code",
   "execution_count": 8,
   "id": "11a2de61",
   "metadata": {},
   "outputs": [],
   "source": [
    "loss_fn = nn.L1Loss(reduction='mean')"
   ]
  },
  {
   "cell_type": "markdown",
   "id": "56d145f9",
   "metadata": {},
   "source": [
    "### 2. Initialize model parameters W "
   ]
  },
  {
   "cell_type": "code",
   "execution_count": 9,
   "id": "319e5481",
   "metadata": {},
   "outputs": [],
   "source": [
    "\n",
    "# The model parameters get initialized by creating an instance of the class \n",
    "model = FCN()\n",
    "\n",
    "# Learning rate controls the rate of learning (how much should we react to the gradient signal)\n",
    "learning_rate = 1e-4\n",
    "\n",
    "# Optimizers basically optimize the gradient descent learning process. \n",
    "# One of the most widely used optimizer is Adam's Optimizer\n",
    "optimizer = torch.optim.Adam(model.parameters(), lr=learning_rate)\n"
   ]
  },
  {
   "cell_type": "markdown",
   "id": "94e7b374",
   "metadata": {},
   "source": [
    "**Bonus:** For those interested in further reading on optimizers, here's a really nice blog post (credits to Sebastian Ruder) <br>\n",
    "https://ruder.io/optimizing-gradient-descent/"
   ]
  },
  {
   "cell_type": "markdown",
   "id": "1ccb145d",
   "metadata": {},
   "source": [
    "### 3. Calculate the loss L w.r.t those parameters \n",
    "### 4. Update the parameters such that loss L is reduced \n",
    "### 5. Keep doing this until convergence  "
   ]
  },
  {
   "cell_type": "code",
   "execution_count": 10,
   "id": "7e934a84",
   "metadata": {},
   "outputs": [
    {
     "name": "stdout",
     "output_type": "stream",
     "text": [
      "Loss 20.353666305541992\n",
      "Loss 14.781240463256836\n",
      "Loss 4.25840950012207\n",
      "Loss 2.1638262271881104\n",
      "Loss 1.1960673332214355\n",
      "Loss 0.922408938407898\n",
      "Loss 0.9017630815505981\n",
      "Loss 0.8782573938369751\n",
      "Loss 0.8514451384544373\n",
      "Loss 0.8216419219970703\n",
      "Loss 0.7890579700469971\n",
      "Loss 0.7546191811561584\n",
      "Loss 0.719515860080719\n",
      "Loss 0.6838544607162476\n",
      "Loss 0.6464371681213379\n",
      "Loss 0.6051987409591675\n",
      "Loss 0.5549943447113037\n",
      "Loss 0.4897640347480774\n",
      "Loss 0.40860724449157715\n",
      "Loss 0.33446192741394043\n"
     ]
    }
   ],
   "source": [
    "# Step 3,4 and 5 are done by this simple piece of code! \n",
    "\n",
    "# The number of epochs determine how many times do we want to go over the entire data \n",
    "# Learning stops once the maximum number of epochs are reached \n",
    "epochs = 10000 \n",
    "\n",
    "for i in range(epochs): \n",
    "    # Get output from the model (predicted arrival times for all stations)\n",
    "    y_pred = model(X) \n",
    "    \n",
    "    # This is step 3 - Calculating the loss \n",
    "    loss = loss_fn(y_pred, Y)\n",
    "        \n",
    "    if i % 500 == 0: \n",
    "        print(\"Loss\", loss.item())\n",
    "        \n",
    "    \n",
    "    # The optimizer by default accumulates gradient. \n",
    "    # So remember to call optimizer.zero_grad() as we only want to run the backward pass w.r.t the current gradient signal \n",
    "    \n",
    "    optimizer.zero_grad()\n",
    "    # loss.backward() will calculate the gradient w.r.t all parameters \n",
    "    loss.backward()\n",
    "    # Optimizer.step() will perform the actual parameter update \n",
    "    optimizer.step()\n"
   ]
  },
  {
   "cell_type": "code",
   "execution_count": 11,
   "id": "ff5774b8",
   "metadata": {},
   "outputs": [
    {
     "name": "stdout",
     "output_type": "stream",
     "text": [
      "Actual values: tensor([20.5150, 14.9283,  1.5215, 12.8255, 11.9655,  1.5252, 20.0285, 19.1101,\n",
      "        22.0059, 22.4280,  7.6533, 14.6970,  9.8511,  1.6910, 22.1209, 10.5172,\n",
      "        12.6010,  5.4782,  1.5273,  1.5281,  9.2691, 15.8773,  5.7548, 21.3359,\n",
      "         2.4332, 14.5305, 14.7304, 12.5884, 17.6553,  5.6469,  3.9749, 12.7202,\n",
      "        22.8519,  8.7630, 12.0334, 22.5246,  4.6265,  7.1296,  3.3267,  2.6720,\n",
      "        11.1655, 19.2272,  5.9774, 19.8006, 14.4181, 21.0068, 19.2288,  8.1451,\n",
      "        19.0283, 11.9827,  6.3646,  5.7040,  8.9154, 10.7793,  4.3236, 18.7557,\n",
      "         5.6897,  7.1795,  5.4772,  1.8681,  1.9838, 18.6842,  1.5275, 21.6485,\n",
      "         7.4851, 22.3479,  2.2078,  3.6950,  8.5902,  2.9629,  5.7023, 15.2753,\n",
      "        23.3296, 15.0137,  7.5774,  5.2557, 17.0630,  8.3527, 14.9470,  5.2578,\n",
      "        22.2779,  2.9140, 18.6292,  2.0692,  6.2051,  1.5802, 11.3485, 18.4144,\n",
      "         4.4680, 15.3148,  2.5473,  8.7696,  1.6700,  3.7730,  3.5310,  7.7631,\n",
      "         2.1796, 11.1365,  4.3256,  2.6455])\n",
      "Predicted values: tensor([20.4999, 14.9398,  2.4005, 12.8422, 11.9830,  2.4477, 20.0162, 19.1029,\n",
      "        21.9819, 22.4013,  6.2383, 14.7092,  9.8657,  2.0140, 22.0961, 10.5337,\n",
      "        12.6179,  5.0909,  2.4609,  2.3190,  9.2812, 15.8853,  5.7185, 21.3159,\n",
      "         2.3475, 14.5432, 14.7425, 12.6054, 17.6555,  5.6075,  3.8568, 12.7370,\n",
      "        22.8225,  8.7721, 12.0509, 22.4974,  4.5477,  5.9639,  3.1490,  2.4684,\n",
      "        11.1828, 19.2192,  5.3564, 19.7895, 14.4312, 20.9888, 19.2209,  8.1493,\n",
      "        19.0214, 12.0002,  6.3432,  5.6663,  8.9255, 10.7962,  4.2284, 18.7503,\n",
      "         5.6516,  5.9901,  5.4326,  2.0164,  2.0932, 18.6791,  2.4624, 21.6266,\n",
      "         7.4821, 22.3217,  2.2260,  3.5544,  6.7274,  3.6961,  5.6645, 15.2856,\n",
      "        23.4713, 15.0249,  7.5756,  4.9719, 17.0660,  6.6036, 14.9584,  4.9731,\n",
      "        22.2522,  2.6800, 18.6244,  2.1458,  5.4770,  2.1735, 11.3660, 18.4107,\n",
      "         4.3809, 15.3249,  2.4061,  8.7788,  2.7456,  4.1628,  4.0263,  7.7634,\n",
      "         2.2101, 11.1538,  4.4687,  3.5022], grad_fn=<SqueezeBackward0>)\n"
     ]
    }
   ],
   "source": [
    "\n",
    "print(\"Actual values: {}\".format(Y[:100].squeeze()))\n",
    "print(\"Predicted values: {}\".format(y_pred[:100].squeeze()))"
   ]
  },
  {
   "cell_type": "markdown",
   "id": "7a3f4a0e",
   "metadata": {},
   "source": [
    "So, we can see from the results printed above that our simple neural network was able to approximate the arrival times pretty well! \n",
    "\n"
   ]
  },
  {
   "cell_type": "markdown",
   "id": "45e3d77e",
   "metadata": {},
   "source": [
    "### Bonus Activity\n",
    "\n",
    "Try changing the value of learning rate in the initialize model parameters step. What do you observe for the following scenarios? \n",
    "\n",
    "* What happens to the loss when you making the learning rate progressively larger (1e-2, 1e-1, 0.2, 0.3 etc) \n",
    "\n",
    "* What happens to the loss when you use a smaller learning rate? (1e-5, 1e-6 etc) "
   ]
  },
  {
   "cell_type": "markdown",
   "id": "80d4c9e9",
   "metadata": {},
   "source": [
    "<hr> \n",
    "\n",
    "## Activity 3 - Classifying Earthquake and Noise Signals "
   ]
  },
  {
   "cell_type": "markdown",
   "id": "46b30158",
   "metadata": {},
   "source": [
    "In this activity, we will be building a CNN classifier to classify between Earthquake Signals and Noise Signals (background noise). We will be using data from [Earthquake Detective](https://www.zooniverse.org/projects/vivitang/earthquake-detective). \n",
    "\n",
    "We will be attempting to classify between Earthquake and Noise using images alone. This works in this case as the data is clean and most of the earthquake images have clear distinguishable characteristics from noise images. "
   ]
  },
  {
   "cell_type": "code",
   "execution_count": 12,
   "id": "f0761b4f",
   "metadata": {},
   "outputs": [],
   "source": [
    "X_img = pickle.load(urlopen(\"https://www.dropbox.com/s/s3jy5cc6wcd5i9c/X_img?dl=1\"))\n",
    "Y = pickle.load(urlopen(\"https://www.dropbox.com/s/zvzemxjfodggbwq/Y?dl=1\"))"
   ]
  },
  {
   "cell_type": "code",
   "execution_count": 13,
   "id": "8ba199f1",
   "metadata": {},
   "outputs": [
    {
     "name": "stdout",
     "output_type": "stream",
     "text": [
      "820 820\n",
      "(135, 334)\n"
     ]
    }
   ],
   "source": [
    "# There are 820 data samples \n",
    "print(len(X_img), len(Y))\n",
    "\n",
    "print(X_img[0][0].shape)"
   ]
  },
  {
   "cell_type": "markdown",
   "id": "65d5deed",
   "metadata": {},
   "source": [
    "Every sample is made of three grayscale images representing the Earthquake/Noise signal across three channels - BHZ, BHE, BHN\n",
    "\n",
    "Examples are shown below: "
   ]
  },
  {
   "cell_type": "code",
   "execution_count": 14,
   "id": "cc1b727f",
   "metadata": {},
   "outputs": [
    {
     "data": {
      "image/png": "[encoded data removed]",
      "text/plain": [
       "<Figure size 432x288 with 3 Axes>"
      ]
     },
     "metadata": {
      "needs_background": "light"
     },
     "output_type": "display_data"
    }
   ],
   "source": [
    "# Example of an Earthquake across three channels (BHZ, BHE, BHN)\n",
    "\n",
    "fig, axes = plt.subplots(3)\n",
    "\n",
    "axes[0].imshow(X_img[50][0], cmap='gray')\n",
    "axes[1].imshow(X_img[50][1], cmap='gray')\n",
    "axes[2].imshow(X_img[50][2], cmap='gray')\n",
    "\n",
    "plt.show()\n"
   ]
  },
  {
   "cell_type": "code",
   "execution_count": 15,
   "id": "e538cce8",
   "metadata": {},
   "outputs": [
    {
     "data": {
      "image/png": "[encoded data removed]",
      "text/plain": [
       "<Figure size 432x288 with 3 Axes>"
      ]
     },
     "metadata": {
      "needs_background": "light"
     },
     "output_type": "display_data"
    }
   ],
   "source": [
    "# Example of noise \n",
    "\n",
    "fig, axes = plt.subplots(3)\n",
    "\n",
    "axes[0].imshow(X_img[38][0], cmap='gray')\n",
    "axes[1].imshow(X_img[38][1], cmap='gray')\n",
    "axes[2].imshow(X_img[38][2], cmap='gray')\n",
    "\n",
    "plt.show()"
   ]
  },
  {
   "cell_type": "markdown",
   "id": "4f0e7575",
   "metadata": {},
   "source": [
    "Remember from the slides that we should divide our data into train and test sets. In the code cell below, we randomly choose 80% of the data samples for training and pass the remaining 20% for testing. "
   ]
  },
  {
   "cell_type": "code",
   "execution_count": 16,
   "id": "0f1b452a",
   "metadata": {},
   "outputs": [
    {
     "name": "stdout",
     "output_type": "stream",
     "text": [
      "Number of train samples 656 and Number of test samples 164\n",
      "torch.Size([656, 3, 135, 334]) torch.Size([656]) torch.Size([164, 3, 135, 334]) torch.Size([164])\n"
     ]
    }
   ],
   "source": [
    "X_img = np.array(X_img)\n",
    "Y = np.array(Y)\n",
    "\n",
    "X = torch.from_numpy(X_img).float()\n",
    "Y = torch.from_numpy(Y).long()\n",
    "\n",
    "n = X_img.shape[0]\n",
    "\n",
    "# Shuffle the values and divide into train and test \n",
    "permut = np.random.permutation(n)\n",
    "\n",
    "train_percent = 0.8 \n",
    "train_samples = int(train_percent * n)\n",
    "test_samples = n - train_samples \n",
    "print(\"Number of train samples {} and Number of test samples {}\".format(train_samples, test_samples))\n",
    "X_train, Y_train = X[permut[:train_samples], ], Y[permut[:train_samples]]\n",
    "X_test, Y_test = X[permut[train_samples:], ], Y[permut[train_samples: ]]\n",
    "print(X_train.shape, Y_train.shape, X_test.shape, Y_test.shape)"
   ]
  },
  {
   "cell_type": "markdown",
   "id": "4ebb8951",
   "metadata": {},
   "source": [
    "Now, we follow the same steps as the previous activity to build and train our model \n",
    "\n",
    "Remember from the lecture slides, the model structure for a CNN looks like follows: \n",
    "\n",
    "<img src=\"https://i.imgur.com/AYASYvA.png\" width=600 height=300>"
   ]
  },
  {
   "cell_type": "code",
   "execution_count": 17,
   "id": "c4d24191",
   "metadata": {},
   "outputs": [],
   "source": [
    "class CNN(nn.Module): \n",
    "    def __init__(self):\n",
    "        super(CNN, self).__init__()\n",
    "\n",
    "        self.conv1 = nn.Conv2d(3, 8, kernel_size=(5, 5), stride=2)\n",
    "        self.pool1 = nn.MaxPool2d(kernel_size=3)\n",
    "        self.conv2 = nn.Conv2d(8, 32, kernel_size=(3, 3), stride=1)\n",
    "        self.pool2 = nn.MaxPool2d(kernel_size=3)\n",
    "        self.fc1 = nn.Linear(3264, 512) \n",
    "        self.fc2 = nn.Linear(512, 2)\n",
    "    \n",
    "    def forward(self, x): \n",
    "        x = F.relu(self.conv1(x))\n",
    "        x = self.pool1(x)\n",
    "        x = F.relu(self.conv2(x))\n",
    "        x = self.pool2(x)\n",
    "        x = torch.flatten(x, start_dim=1)\n",
    "        # print(\"Shape after flattening\", x.shape)\n",
    "        \n",
    "        x = F.relu(self.fc1(x))\n",
    "        x = F.softmax(self.fc2(x), dim=1)\n",
    "        \n",
    "        return x \n",
    "        \n",
    "        \n",
    "\n",
    "        \n"
   ]
  },
  {
   "cell_type": "markdown",
   "id": "404324fe",
   "metadata": {},
   "source": [
    "It's important to note that there is no fixed way to decide the values used while defining a model. For example, in the code cell above in self.conv1, we took the 3 grayscale images and outputted 8 filters (channels) with kernel size = 5 and stride 2. But one could have also outputted some other number of channels like 12 or 16 and used a different kernel size. **It's mostly trial and error**. A good strategy is to look up how other researchers have built existing models on similar kind of data and then try to work from there.  "
   ]
  },
  {
   "cell_type": "markdown",
   "id": "3087d028",
   "metadata": {},
   "source": [
    "\n",
    "### Important trick to determine to determine the number of features going into a fully connected network. \n",
    "\n",
    "\n",
    "In the model which we defined in the previous cell, you can see that I have put the number of features going into the first fully connected layer (self.fc1) as 3264. This number comes after flattening the features received from the previous layer. But how to easily determine this number? \n",
    "\n",
    "So, the long way of calculating this number is to follow the mathematical formula shown in the PyTorch documentation for each CNN module. However, an easier way is to just print the shape of the data after flattening it out. "
   ]
  },
  {
   "cell_type": "markdown",
   "id": "cf90f876",
   "metadata": {},
   "source": [
    "We can quickly test this by doing a single pass of the model with our data and print the shape after flattening. \n",
    "So, for example, if you uncomment the print statement in the previous cell and run the following cell you get the number of features after flattening. "
   ]
  },
  {
   "cell_type": "code",
   "execution_count": 18,
   "id": "d5fde841",
   "metadata": {},
   "outputs": [
    {
     "data": {
      "text/plain": [
       "tensor([[0.4876, 0.5124],\n",
       "        [0.4824, 0.5176],\n",
       "        [0.4831, 0.5169],\n",
       "        ...,\n",
       "        [0.4751, 0.5249],\n",
       "        [0.4757, 0.5243],\n",
       "        [0.4796, 0.5204]], grad_fn=<SoftmaxBackward>)"
      ]
     },
     "execution_count": 18,
     "metadata": {},
     "output_type": "execute_result"
    }
   ],
   "source": [
    "model = CNN()\n",
    "# Run a single pass of the model \n",
    "model(X) \n",
    "\n",
    "# The print statement should give [820, 3264] \n",
    "# Now, that we know the flattened features = 3264, we can set nn.Linear(3264, 512)\n",
    "\n",
    "# Make sure to comment out the print statement again before moving forward to avoid unnnecessary prints in future cells "
   ]
  },
  {
   "cell_type": "code",
   "execution_count": 19,
   "id": "e88ea7e0",
   "metadata": {},
   "outputs": [],
   "source": [
    "model = CNN()\n",
    "# Cross entropy loss is commonly used for classification tasks: \n",
    "# Link: https://pytorch.org/docs/stable/generated/torch.nn.CrossEntropyLoss.html \n",
    "loss_fn = nn.CrossEntropyLoss()\n",
    "learning_rate = 1e-5\n",
    "optimizer = torch.optim.Adam(model.parameters(), lr=learning_rate)"
   ]
  },
  {
   "cell_type": "code",
   "execution_count": 20,
   "id": "12b3a08d",
   "metadata": {},
   "outputs": [
    {
     "name": "stdout",
     "output_type": "stream",
     "text": [
      "Loss 0.6914015412330627\n",
      "Train Accuracy: 0.5884146341463414\n",
      "Test Accuracy: 0.5548780487804879\n",
      "Loss 0.686665415763855\n",
      "Train Accuracy: 0.6722560975609756\n",
      "Test Accuracy: 0.6341463414634146\n",
      "Loss 0.6824972629547119\n",
      "Train Accuracy: 0.6646341463414634\n",
      "Test Accuracy: 0.6036585365853658\n",
      "Loss 0.6787773370742798\n",
      "Train Accuracy: 0.663109756097561\n",
      "Test Accuracy: 0.6036585365853658\n",
      "Loss 0.6753522157669067\n",
      "Train Accuracy: 0.6676829268292683\n",
      "Test Accuracy: 0.6036585365853658\n",
      "Loss 0.6720756888389587\n",
      "Train Accuracy: 0.6722560975609756\n",
      "Test Accuracy: 0.6097560975609756\n",
      "Loss 0.6689049601554871\n",
      "Train Accuracy: 0.6737804878048781\n",
      "Test Accuracy: 0.6097560975609756\n",
      "Loss 0.6658105850219727\n",
      "Train Accuracy: 0.6737804878048781\n",
      "Test Accuracy: 0.6219512195121951\n",
      "Loss 0.6627728343009949\n",
      "Train Accuracy: 0.6798780487804879\n",
      "Test Accuracy: 0.6463414634146342\n",
      "Loss 0.6598311066627502\n",
      "Train Accuracy: 0.6798780487804879\n",
      "Test Accuracy: 0.6524390243902439\n"
     ]
    }
   ],
   "source": [
    "epochs = 50 \n",
    "\n",
    "for i in range(epochs): \n",
    "    y_pred = model(X_train) \n",
    "    \n",
    "    loss = loss_fn(y_pred, Y_train)\n",
    "    \n",
    "    \n",
    "    if i % 5 == 0: \n",
    "        print(\"Loss\", loss.item())\n",
    "        \n",
    "        _, predicted = torch.max(y_pred, 1)\n",
    "        correct_mat = (predicted == Y_train).squeeze()\n",
    "        correct_count = torch.sum(correct_mat).item()\n",
    "        print(\"Train Accuracy: {}\".format(correct_count/len(predicted)))\n",
    "        \n",
    "        with torch.no_grad(): \n",
    "            y_pred_test = model(X_test)\n",
    "            _, predicted = torch.max(y_pred_test, 1)\n",
    "            correct_mat = (predicted == Y_test).squeeze()\n",
    "            correct_count = torch.sum(correct_mat).item()\n",
    "            print(\"Test Accuracy: {}\".format(correct_count/len(predicted)))\n",
    "\n",
    "        \n",
    "    optimizer.zero_grad()\n",
    "    loss.backward()\n",
    "    optimizer.step()"
   ]
  },
  {
   "cell_type": "markdown",
   "id": "97e6026b",
   "metadata": {},
   "source": [
    "<hr>"
   ]
  },
  {
   "cell_type": "markdown",
   "id": "f1814819",
   "metadata": {},
   "source": [
    "**Note:** As the model parameters are randomly initialized and as the dataset is randomly split between train and test, the accuracies will vary in different runs. In practice, this is fine as long as the variance is small over different runs of the model. "
   ]
  },
  {
   "cell_type": "markdown",
   "id": "f6b38375",
   "metadata": {},
   "source": [
    "## Activity 4 (Bonus) - Classifiying between Earthquake and Noise signals directly using the signal data"
   ]
  },
  {
   "cell_type": "markdown",
   "id": "0113dd05",
   "metadata": {},
   "source": [
    "In this activity, we will be using data from the [Stanford Earthquake Dataset (STEAD)](https://github.com/smousavi05/STEAD). \n",
    "\n",
    "I have already processed and taken a subset of that dataset which contains 5000 noise signals and 5000 earthquake signals. \n",
    "\n",
    "**The task:** Just like activity 3, you have to build a CNN model and then train it. **But remember, now it's only 1D data (signal) so you would use 1D convolutions instead of 2D.**\n",
    "\n",
    "Solution will be provided separately later on. "
   ]
  },
  {
   "cell_type": "code",
   "execution_count": 21,
   "id": "032630b0",
   "metadata": {},
   "outputs": [],
   "source": [
    "# May take some time to download \n",
    "X_noise = pickle.load(urlopen(\"https://www.dropbox.com/s/pzlvpwfc3ext7ob/X_noise?dl=1\"))\n",
    "X_eq = pickle.load(urlopen(\"https://www.dropbox.com/s/h6fgk5mf1alie1u/X_Eq?dl=1\"))"
   ]
  },
  {
   "cell_type": "code",
   "execution_count": 22,
   "id": "fd492c53",
   "metadata": {},
   "outputs": [
    {
     "name": "stdout",
     "output_type": "stream",
     "text": [
      "(5000, 6000, 3) (5000, 6000, 3) (5000,) (5000,)\n"
     ]
    }
   ],
   "source": [
    "X_noise = np.array(X_noise)\n",
    "X_eq = np.array(X_eq)\n",
    "\n",
    "# Create a label array, noise = 0, eq = 1\n",
    "Y_noise = np.zeros(X_noise.shape[0])\n",
    "Y_eq = np.ones(X_eq.shape[0])\n",
    "\n",
    "print(X_noise.shape, X_eq.shape, Y_noise.shape, Y_eq.shape)"
   ]
  },
  {
   "cell_type": "code",
   "execution_count": 23,
   "id": "ffe3a2bc",
   "metadata": {},
   "outputs": [
    {
     "name": "stdout",
     "output_type": "stream",
     "text": [
      "torch.Size([10000, 3, 6000]) torch.Size([10000])\n"
     ]
    }
   ],
   "source": [
    "# Convert to torch tensors and concat \n",
    "X_noise = torch.from_numpy(X_noise)\n",
    "X_eq = torch.from_numpy(X_eq)\n",
    "Y_noise = torch.from_numpy(Y_noise)\n",
    "Y_eq = torch.from_numpy(Y_eq)\n",
    "\n",
    "X = torch.cat((X_noise, X_eq), dim=0).float()\n",
    "Y = torch.cat((Y_noise, Y_eq), dim=0).long()\n",
    "\n",
    "# Pytorch models require input of the form -> Number of examples, Channels, features \n",
    "# So, swap the dimensions to make sure the input is in correct form \n",
    "X = torch.transpose(X, 1, 2)\n",
    "\n",
    "print(X.shape, Y.shape)\n"
   ]
  },
  {
   "cell_type": "code",
   "execution_count": 24,
   "id": "f1579e7d",
   "metadata": {},
   "outputs": [
    {
     "name": "stdout",
     "output_type": "stream",
     "text": [
      "Number of train samples 8000 and Number of test samples 2000\n",
      "torch.Size([8000, 3, 6000]) torch.Size([8000]) torch.Size([2000, 3, 6000]) torch.Size([2000])\n"
     ]
    }
   ],
   "source": [
    "# Shuffle the values and divide into train and test \n",
    "n = X.shape[0]\n",
    "permut = np.random.permutation(n)\n",
    "\n",
    "train_percent = 0.8 \n",
    "train_samples = int(train_percent * n)\n",
    "test_samples = n - train_samples \n",
    "print(\"Number of train samples {} and Number of test samples {}\".format(train_samples, test_samples))\n",
    "X_train, Y_train = X[permut[:train_samples], ], Y[permut[:train_samples]]\n",
    "X_test, Y_test = X[permut[train_samples:], ], Y[permut[train_samples: ]]\n",
    "print(X_train.shape, Y_train.shape, X_test.shape, Y_test.shape)"
   ]
  },
  {
   "cell_type": "markdown",
   "id": "28e0ce4d",
   "metadata": {},
   "source": [
    "\n",
    "**Start your code from here onward**\n",
    "\n",
    "To do: \n",
    "\n",
    "1. Build a CNN class like in the previous activity \n",
    "2. Train the model and check the accuracy on the training and testing set \n",
    "\n",
    "Functions to refer to while building the CNN model: \n",
    "* Conv 1D: https://pytorch.org/docs/stable/generated/torch.nn.Conv1d.html\n",
    "* Max Pool 1D: https://pytorch.org/docs/stable/generated/torch.nn.MaxPool1d.html\n",
    "* NN Linear: https://pytorch.org/docs/stable/generated/torch.nn.Linear.html\n",
    "\n",
    "\n",
    "Additional notes: \n",
    "* Remember the model is 1D, so use a single integer for kernel_size instead of a 2D tuple which was used in the previous activity \n",
    "* Use the trick mentioned in the previous activity to determine the incoming number of features to a nn.Linear layer \n",
    "\n",
    "\n"
   ]
  },
  {
   "cell_type": "markdown",
   "id": "160e233c",
   "metadata": {},
   "source": [
    "## Solution "
   ]
  },
  {
   "cell_type": "code",
   "execution_count": null,
   "id": "ee48e75b",
   "metadata": {},
   "outputs": [],
   "source": []
  },
  {
   "cell_type": "markdown",
   "id": "9ab2faf9",
   "metadata": {},
   "source": [
    "## Conclusion \n",
    "\n",
    "We learned the basics of neural networks in this tutorial. For further reading, I would recommend going through the different tutorials available on the PyTorch website: https://pytorch.org/tutorials/"
   ]
  }
 ],
 "metadata": {
  "kernelspec": {
   "display_name": "Python 3",
   "language": "python",
   "name": "python3"
  },
  "language_info": {
   "codemirror_mode": {
    "name": "ipython",
    "version": 3
   },
   "file_extension": ".py",
   "mimetype": "text/x-python",
   "name": "python",
   "nbconvert_exporter": "python",
   "pygments_lexer": "ipython3",
   "version": "3.9.5"
  }
 },
 "nbformat": 4,
 "nbformat_minor": 5
}
